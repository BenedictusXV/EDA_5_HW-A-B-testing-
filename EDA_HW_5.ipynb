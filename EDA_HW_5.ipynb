{
 "cells": [
  {
   "attachments": {},
   "cell_type": "markdown",
   "metadata": {},
   "source": [
    "## <center> **Анализ результатов A/B-тестирования**"
   ]
  },
  {
   "attachments": {},
   "cell_type": "markdown",
   "metadata": {},
   "source": [
    "Компания планирует запустить новую акцию, чтобы продать как можно больше туров. Команда разработала два варианта посадочной страницы официального сайта компании и провела A/B-тестирование. Собранные в результате проведения эксперимента данные вы можете найти здесь.\n",
    "\n",
    "Вам предстоит решить настоящую бизнес-задачу: проанализировать эффективность обоих вариантов посадочной страницы сразу по двум критериям: конверсии покупки и среднему чеку. На основе проведенного анализа вам будет необходимо сделать выводы и принять решение: какой из вариантов дизайна более предпочтительный.\n",
    "\n",
    "Итак, наша фирма предлагает следующие варианты туров и их соответствующие стоимости:\n",
    "* Таиланд — 100000 рублей;\n",
    "* Турция — 60000 рублей;\n",
    "* Мальдивы — 200000 рублей;\n",
    "* Санкт-Петербург — 10000 рублей;\n",
    "* Камчатка — 150000 рублей."
   ]
  },
  {
   "cell_type": "code",
   "execution_count": 19,
   "metadata": {},
   "outputs": [],
   "source": [
    "import pandas as pd\n",
    "import matplotlib.pyplot as plt\n",
    "import seaborn as sns\n",
    "from scipy.stats import norm\n",
    "from scipy.stats import t\n",
    "from scipy.stats import ttest_ind, shapiro, f_oneway, mannwhitneyu\n",
    "from statsmodels.stats.proportion import proportions_ztest"
   ]
  },
  {
   "attachments": {},
   "cell_type": "markdown",
   "metadata": {},
   "source": [
    "Прочитаем наши данные и посмотрим на столбцы таблицы:"
   ]
  },
  {
   "cell_type": "code",
   "execution_count": 20,
   "metadata": {},
   "outputs": [
    {
     "data": {
      "text/html": [
       "<div>\n",
       "<style scoped>\n",
       "    .dataframe tbody tr th:only-of-type {\n",
       "        vertical-align: middle;\n",
       "    }\n",
       "\n",
       "    .dataframe tbody tr th {\n",
       "        vertical-align: top;\n",
       "    }\n",
       "\n",
       "    .dataframe thead th {\n",
       "        text-align: right;\n",
       "    }\n",
       "</style>\n",
       "<table border=\"1\" class=\"dataframe\">\n",
       "  <thead>\n",
       "    <tr style=\"text-align: right;\">\n",
       "      <th></th>\n",
       "      <th>user_id</th>\n",
       "      <th>date</th>\n",
       "      <th>group</th>\n",
       "      <th>purchase</th>\n",
       "      <th>price</th>\n",
       "    </tr>\n",
       "  </thead>\n",
       "  <tbody>\n",
       "    <tr>\n",
       "      <th>0</th>\n",
       "      <td>851104</td>\n",
       "      <td>2021-01-21</td>\n",
       "      <td>A</td>\n",
       "      <td>0</td>\n",
       "      <td>0</td>\n",
       "    </tr>\n",
       "    <tr>\n",
       "      <th>1</th>\n",
       "      <td>804228</td>\n",
       "      <td>2021-01-12</td>\n",
       "      <td>A</td>\n",
       "      <td>0</td>\n",
       "      <td>0</td>\n",
       "    </tr>\n",
       "    <tr>\n",
       "      <th>2</th>\n",
       "      <td>661590</td>\n",
       "      <td>2021-01-11</td>\n",
       "      <td>B</td>\n",
       "      <td>0</td>\n",
       "      <td>0</td>\n",
       "    </tr>\n",
       "    <tr>\n",
       "      <th>3</th>\n",
       "      <td>853541</td>\n",
       "      <td>2021-01-08</td>\n",
       "      <td>B</td>\n",
       "      <td>0</td>\n",
       "      <td>0</td>\n",
       "    </tr>\n",
       "    <tr>\n",
       "      <th>4</th>\n",
       "      <td>864975</td>\n",
       "      <td>2021-01-21</td>\n",
       "      <td>A</td>\n",
       "      <td>1</td>\n",
       "      <td>150000</td>\n",
       "    </tr>\n",
       "  </tbody>\n",
       "</table>\n",
       "</div>"
      ],
      "text/plain": [
       "   user_id        date group  purchase   price\n",
       "0   851104  2021-01-21     A         0       0\n",
       "1   804228  2021-01-12     A         0       0\n",
       "2   661590  2021-01-11     B         0       0\n",
       "3   853541  2021-01-08     B         0       0\n",
       "4   864975  2021-01-21     A         1  150000"
      ]
     },
     "execution_count": 20,
     "metadata": {},
     "output_type": "execute_result"
    }
   ],
   "source": [
    "data = pd.read_csv('ab_data_tourist.csv')\n",
    "data.head()"
   ]
  },
  {
   "attachments": {},
   "cell_type": "markdown",
   "metadata": {},
   "source": [
    "## **Задание 7.1.**\n",
    "\n",
    "Начнем с исследования структуры наших данных. С помощью метода info() выведите информацию о типах данных и количестве непустых значений. Какой тип данных имеет столбец date?"
   ]
  },
  {
   "cell_type": "code",
   "execution_count": 21,
   "metadata": {},
   "outputs": [
    {
     "name": "stdout",
     "output_type": "stream",
     "text": [
      "<class 'pandas.core.frame.DataFrame'>\n",
      "RangeIndex: 294478 entries, 0 to 294477\n",
      "Data columns (total 5 columns):\n",
      " #   Column    Non-Null Count   Dtype \n",
      "---  ------    --------------   ----- \n",
      " 0   user_id   294478 non-null  int64 \n",
      " 1   date      294478 non-null  object\n",
      " 2   group     294478 non-null  object\n",
      " 3   purchase  294478 non-null  int64 \n",
      " 4   price     294478 non-null  int64 \n",
      "dtypes: int64(3), object(2)\n",
      "memory usage: 11.2+ MB\n"
     ]
    }
   ],
   "source": [
    "data.info()"
   ]
  },
  {
   "attachments": {},
   "cell_type": "markdown",
   "metadata": {},
   "source": [
    "## **Задание 7.2.**\n",
    "\n",
    "Приведите столбец date к типу данных datetime. Убедитесь в равной длительности проведения тестирования для каждой из группы. Для этого сгруппируйте данные по признаку группы и определите первую и последнюю дату наблюдения для каждой из групп. \n",
    "\n",
    "В какой промежуток времени проводился A/B-тест?\n"
   ]
  },
  {
   "cell_type": "code",
   "execution_count": 22,
   "metadata": {},
   "outputs": [
    {
     "data": {
      "text/html": [
       "<div>\n",
       "<style scoped>\n",
       "    .dataframe tbody tr th:only-of-type {\n",
       "        vertical-align: middle;\n",
       "    }\n",
       "\n",
       "    .dataframe tbody tr th {\n",
       "        vertical-align: top;\n",
       "    }\n",
       "\n",
       "    .dataframe thead th {\n",
       "        text-align: right;\n",
       "    }\n",
       "</style>\n",
       "<table border=\"1\" class=\"dataframe\">\n",
       "  <thead>\n",
       "    <tr style=\"text-align: right;\">\n",
       "      <th></th>\n",
       "      <th>min</th>\n",
       "      <th>max</th>\n",
       "    </tr>\n",
       "    <tr>\n",
       "      <th>group</th>\n",
       "      <th></th>\n",
       "      <th></th>\n",
       "    </tr>\n",
       "  </thead>\n",
       "  <tbody>\n",
       "    <tr>\n",
       "      <th>A</th>\n",
       "      <td>2021-01-02</td>\n",
       "      <td>2021-01-24</td>\n",
       "    </tr>\n",
       "    <tr>\n",
       "      <th>B</th>\n",
       "      <td>2021-01-02</td>\n",
       "      <td>2021-01-24</td>\n",
       "    </tr>\n",
       "  </tbody>\n",
       "</table>\n",
       "</div>"
      ],
      "text/plain": [
       "             min        max\n",
       "group                      \n",
       "A     2021-01-02 2021-01-24\n",
       "B     2021-01-02 2021-01-24"
      ]
     },
     "execution_count": 22,
     "metadata": {},
     "output_type": "execute_result"
    }
   ],
   "source": [
    "data['date'] = pd.to_datetime(data['date'])\n",
    "data.groupby('group')['date'].agg(['min', 'max'])"
   ]
  },
  {
   "attachments": {},
   "cell_type": "markdown",
   "metadata": {},
   "source": [
    "A/B тест проводился в период с 02.01.2021 по 24.01.2021"
   ]
  },
  {
   "attachments": {},
   "cell_type": "markdown",
   "metadata": {},
   "source": [
    "## **Задание 7.3.**\n",
    "\n",
    "* Чему равно количество посещений сайта в группах А и B?\n",
    "\n",
    "* Чему равно суммарное количество покупок в группах А и B?\n",
    "\n",
    "* Чему равна сумма всех покупок в группах А и B? Ответ приведите в миллионах рублей. Например, 185.52 млн. руб."
   ]
  },
  {
   "cell_type": "code",
   "execution_count": 23,
   "metadata": {},
   "outputs": [
    {
     "name": "stdout",
     "output_type": "stream",
     "text": [
      "Суммарное количество посещений в группах A и B соответственно:(147202, 147276) \n",
      "Суммарное количество покупок в группах A и B соответственно:(17723, 17514) \n",
      "Сумма всех покупок в группах A и B соответственно:(1436.26, 1554.1) \n"
     ]
    }
   ],
   "source": [
    "# Сгруппируем данные по группам, посчитаем количество посещений, \n",
    "# сумму покупок и общий чек \n",
    "data_by_group = data.groupby('group').agg(\n",
    "    {'user_id':'count', 'purchase':'sum', 'price':'sum' }).reset_index().rename(\n",
    "    columns={'user_id':'user_count', 'purchase':'total_purchase', 'price':'total_price'}\n",
    "    )\n",
    "data_by_group['total_price'] = data_by_group['total_price'] / 10 ** 6\n",
    "print('Суммарное количество посещений в группах A и B соответственно:{} '.format(\n",
    "    (data_by_group[data_by_group['group'] == 'A']['user_count'].loc[0], \n",
    "     data_by_group[data_by_group['group'] == 'B']['user_count'].loc[1])))\n",
    "\n",
    "print('Суммарное количество покупок в группах A и B соответственно:{} '.format(\n",
    "    (data_by_group[data_by_group['group'] == 'A']['total_purchase'].loc[0], \n",
    "     data_by_group[data_by_group['group'] == 'B']['total_purchase'].loc[1])))\n",
    "\n",
    "print('Сумма всех покупок в группах A и B соответственно:{} '.format(\n",
    "    (data_by_group[data_by_group['group'] == 'A']['total_price'].loc[0], \n",
    "     data_by_group[data_by_group['group'] == 'B']['total_price'].loc[1])))"
   ]
  },
  {
   "attachments": {},
   "cell_type": "markdown",
   "metadata": {},
   "source": [
    "## **Задание 7.4.**\n",
    "\n",
    "Проверьте, есть ли пользователи, которые в процессе A/B-теста попали в обе тестовые группы? Если да, то сколько таких уникальных пользователей, если нет - введите в поле для ответа 0?\n"
   ]
  },
  {
   "cell_type": "code",
   "execution_count": 24,
   "metadata": {},
   "outputs": [
    {
     "name": "stdout",
     "output_type": "stream",
     "text": [
      "Количество пользователей, попавших в обе группы: 1895\n"
     ]
    }
   ],
   "source": [
    "# Создадим множество пользователей группы А и множество пользователей группы B. \n",
    "# Пересечение этих множеств покажет количество пользователей, попавших в обе группы\n",
    "set_a = set(data[data['group'] == 'A']['user_id'])\n",
    "set_b = set(data[data['group'] == 'B']['user_id'])\n",
    "same_users = set_a.intersection(set_b)\n",
    "print('Количество пользователей, попавших в обе группы: {}'.format(len(same_users)))"
   ]
  },
  {
   "attachments": {},
   "cell_type": "markdown",
   "metadata": {},
   "source": [
    "## **Исключите пользователей, оказавшихся в обеих группах**\n",
    "\n",
    "Так как мы не можем определить, какая из версий сайта повлияла на принятие решения, исключим этих пользователей. Далее мы будем работать только с очищенными от пересечений данными.\n"
   ]
  },
  {
   "cell_type": "code",
   "execution_count": 25,
   "metadata": {},
   "outputs": [
    {
     "data": {
      "text/html": [
       "<div>\n",
       "<style scoped>\n",
       "    .dataframe tbody tr th:only-of-type {\n",
       "        vertical-align: middle;\n",
       "    }\n",
       "\n",
       "    .dataframe tbody tr th {\n",
       "        vertical-align: top;\n",
       "    }\n",
       "\n",
       "    .dataframe thead th {\n",
       "        text-align: right;\n",
       "    }\n",
       "</style>\n",
       "<table border=\"1\" class=\"dataframe\">\n",
       "  <thead>\n",
       "    <tr style=\"text-align: right;\">\n",
       "      <th></th>\n",
       "      <th>user_id</th>\n",
       "      <th>date</th>\n",
       "      <th>group</th>\n",
       "      <th>purchase</th>\n",
       "      <th>price</th>\n",
       "    </tr>\n",
       "  </thead>\n",
       "  <tbody>\n",
       "    <tr>\n",
       "      <th>0</th>\n",
       "      <td>851104</td>\n",
       "      <td>2021-01-21</td>\n",
       "      <td>A</td>\n",
       "      <td>0</td>\n",
       "      <td>0</td>\n",
       "    </tr>\n",
       "    <tr>\n",
       "      <th>1</th>\n",
       "      <td>804228</td>\n",
       "      <td>2021-01-12</td>\n",
       "      <td>A</td>\n",
       "      <td>0</td>\n",
       "      <td>0</td>\n",
       "    </tr>\n",
       "    <tr>\n",
       "      <th>2</th>\n",
       "      <td>661590</td>\n",
       "      <td>2021-01-11</td>\n",
       "      <td>B</td>\n",
       "      <td>0</td>\n",
       "      <td>0</td>\n",
       "    </tr>\n",
       "    <tr>\n",
       "      <th>3</th>\n",
       "      <td>853541</td>\n",
       "      <td>2021-01-08</td>\n",
       "      <td>B</td>\n",
       "      <td>0</td>\n",
       "      <td>0</td>\n",
       "    </tr>\n",
       "    <tr>\n",
       "      <th>4</th>\n",
       "      <td>864975</td>\n",
       "      <td>2021-01-21</td>\n",
       "      <td>A</td>\n",
       "      <td>1</td>\n",
       "      <td>150000</td>\n",
       "    </tr>\n",
       "  </tbody>\n",
       "</table>\n",
       "</div>"
      ],
      "text/plain": [
       "   user_id       date group  purchase   price\n",
       "0   851104 2021-01-21     A         0       0\n",
       "1   804228 2021-01-12     A         0       0\n",
       "2   661590 2021-01-11     B         0       0\n",
       "3   853541 2021-01-08     B         0       0\n",
       "4   864975 2021-01-21     A         1  150000"
      ]
     },
     "execution_count": 25,
     "metadata": {},
     "output_type": "execute_result"
    }
   ],
   "source": [
    "# способ 1\n",
    "new_data = data.set_index('user_id').drop(list(same_users), axis = 0)\n",
    "new_data.reset_index().head()"
   ]
  },
  {
   "cell_type": "code",
   "execution_count": 26,
   "metadata": {},
   "outputs": [
    {
     "data": {
      "text/html": [
       "<div>\n",
       "<style scoped>\n",
       "    .dataframe tbody tr th:only-of-type {\n",
       "        vertical-align: middle;\n",
       "    }\n",
       "\n",
       "    .dataframe tbody tr th {\n",
       "        vertical-align: top;\n",
       "    }\n",
       "\n",
       "    .dataframe thead th {\n",
       "        text-align: right;\n",
       "    }\n",
       "</style>\n",
       "<table border=\"1\" class=\"dataframe\">\n",
       "  <thead>\n",
       "    <tr style=\"text-align: right;\">\n",
       "      <th></th>\n",
       "      <th>user_id</th>\n",
       "      <th>date</th>\n",
       "      <th>group</th>\n",
       "      <th>purchase</th>\n",
       "      <th>price</th>\n",
       "    </tr>\n",
       "  </thead>\n",
       "  <tbody>\n",
       "    <tr>\n",
       "      <th>0</th>\n",
       "      <td>851104</td>\n",
       "      <td>2021-01-21</td>\n",
       "      <td>A</td>\n",
       "      <td>0</td>\n",
       "      <td>0</td>\n",
       "    </tr>\n",
       "    <tr>\n",
       "      <th>1</th>\n",
       "      <td>804228</td>\n",
       "      <td>2021-01-12</td>\n",
       "      <td>A</td>\n",
       "      <td>0</td>\n",
       "      <td>0</td>\n",
       "    </tr>\n",
       "    <tr>\n",
       "      <th>2</th>\n",
       "      <td>661590</td>\n",
       "      <td>2021-01-11</td>\n",
       "      <td>B</td>\n",
       "      <td>0</td>\n",
       "      <td>0</td>\n",
       "    </tr>\n",
       "    <tr>\n",
       "      <th>3</th>\n",
       "      <td>853541</td>\n",
       "      <td>2021-01-08</td>\n",
       "      <td>B</td>\n",
       "      <td>0</td>\n",
       "      <td>0</td>\n",
       "    </tr>\n",
       "    <tr>\n",
       "      <th>4</th>\n",
       "      <td>864975</td>\n",
       "      <td>2021-01-21</td>\n",
       "      <td>A</td>\n",
       "      <td>1</td>\n",
       "      <td>150000</td>\n",
       "    </tr>\n",
       "  </tbody>\n",
       "</table>\n",
       "</div>"
      ],
      "text/plain": [
       "   user_id       date group  purchase   price\n",
       "0   851104 2021-01-21     A         0       0\n",
       "1   804228 2021-01-12     A         0       0\n",
       "2   661590 2021-01-11     B         0       0\n",
       "3   853541 2021-01-08     B         0       0\n",
       "4   864975 2021-01-21     A         1  150000"
      ]
     },
     "execution_count": 26,
     "metadata": {},
     "output_type": "execute_result"
    }
   ],
   "source": [
    "# способ 2\n",
    "updated_data = data[data['user_id'].apply(lambda x: x not in same_users)]\n",
    "updated_data.head()"
   ]
  },
  {
   "attachments": {},
   "cell_type": "markdown",
   "metadata": {},
   "source": [
    "## **Задание 7.5.**\n",
    "\n",
    "Для первичного анализа результатов A/B-тестирования нам понадобится таблица следующего вида:\n",
    "\n",
    "<img src = \"/image.png\"  width=\"400\" height = \"100\">\n",
    " \n",
    " \n",
    "Для того, чтобы получить такую таблицу, сгруппируйте данные по признаку группы. В каждой группе рассчитайте следующие показатели:\n",
    "* количество посещений (количество пользователей)\n",
    "* количество совершенных покупок\n",
    "* сумма всех покупок в группе\n",
    "\n",
    "В полученной сгруппированной таблице переименуйте столбцы на **count_visits, count_purchases и sum_price**.\n",
    "\n",
    "Чему на этот раз равно количество посещений сайта в группах А и B?\n"
   ]
  },
  {
   "cell_type": "code",
   "execution_count": 27,
   "metadata": {},
   "outputs": [
    {
     "data": {
      "text/html": [
       "<div>\n",
       "<style scoped>\n",
       "    .dataframe tbody tr th:only-of-type {\n",
       "        vertical-align: middle;\n",
       "    }\n",
       "\n",
       "    .dataframe tbody tr th {\n",
       "        vertical-align: top;\n",
       "    }\n",
       "\n",
       "    .dataframe thead th {\n",
       "        text-align: right;\n",
       "    }\n",
       "</style>\n",
       "<table border=\"1\" class=\"dataframe\">\n",
       "  <thead>\n",
       "    <tr style=\"text-align: right;\">\n",
       "      <th></th>\n",
       "      <th>group</th>\n",
       "      <th>count_visits</th>\n",
       "      <th>count_purchase</th>\n",
       "      <th>sum_price</th>\n",
       "    </tr>\n",
       "  </thead>\n",
       "  <tbody>\n",
       "    <tr>\n",
       "      <th>0</th>\n",
       "      <td>A</td>\n",
       "      <td>145307</td>\n",
       "      <td>17487</td>\n",
       "      <td>1417780000</td>\n",
       "    </tr>\n",
       "    <tr>\n",
       "      <th>1</th>\n",
       "      <td>B</td>\n",
       "      <td>145381</td>\n",
       "      <td>17290</td>\n",
       "      <td>1533010000</td>\n",
       "    </tr>\n",
       "  </tbody>\n",
       "</table>\n",
       "</div>"
      ],
      "text/plain": [
       "  group  count_visits  count_purchase   sum_price\n",
       "0     A        145307           17487  1417780000\n",
       "1     B        145381           17290  1533010000"
      ]
     },
     "execution_count": 27,
     "metadata": {},
     "output_type": "execute_result"
    }
   ],
   "source": [
    "# Посчитаем количество посещений, сумму покупок и общий чек в обновлённой таблице\n",
    "data_by_group_upd = updated_data.groupby('group').agg(\n",
    "    {'user_id':'count', 'purchase':'sum', 'price':'sum' }).reset_index().rename(\n",
    "    columns={'user_id':'count_visits', 'purchase':'count_purchase', 'price':'sum_price'}\n",
    "    )\n",
    "data_by_group_upd"
   ]
  },
  {
   "attachments": {},
   "cell_type": "markdown",
   "metadata": {},
   "source": [
    "Количество посещений в обеих группах после очистки данных сопоставимо.\n",
    "Выборки корректны и готовы к дальнейшему анализу."
   ]
  },
  {
   "attachments": {},
   "cell_type": "markdown",
   "metadata": {},
   "source": [
    "## **Задание 7.6.**\n",
    "\n",
    "Добавьте в сгруппированную таблицу столбцы conversion - конверсия покупки (отношение количества покупок к количеству посещений сайта в каждой группе, выраженное в процентах) и mean_check - средний чек (отношение суммы покупок к количеству покупок в каждой группе).\n",
    "\n",
    "* Чему равна конверсия в группах? Ответ приведите в процентах и округлите до сотых. Например, 75.12 %\n",
    "* Чему равен средний чек в группах? Ответ приведите в рублях и округлите до целых. Например, 120519 рублей."
   ]
  },
  {
   "cell_type": "code",
   "execution_count": 28,
   "metadata": {},
   "outputs": [
    {
     "data": {
      "text/html": [
       "<div>\n",
       "<style scoped>\n",
       "    .dataframe tbody tr th:only-of-type {\n",
       "        vertical-align: middle;\n",
       "    }\n",
       "\n",
       "    .dataframe tbody tr th {\n",
       "        vertical-align: top;\n",
       "    }\n",
       "\n",
       "    .dataframe thead th {\n",
       "        text-align: right;\n",
       "    }\n",
       "</style>\n",
       "<table border=\"1\" class=\"dataframe\">\n",
       "  <thead>\n",
       "    <tr style=\"text-align: right;\">\n",
       "      <th></th>\n",
       "      <th>group</th>\n",
       "      <th>count_visits</th>\n",
       "      <th>count_purchase</th>\n",
       "      <th>sum_price</th>\n",
       "      <th>conversion</th>\n",
       "      <th>mean_check</th>\n",
       "    </tr>\n",
       "  </thead>\n",
       "  <tbody>\n",
       "    <tr>\n",
       "      <th>0</th>\n",
       "      <td>A</td>\n",
       "      <td>145307</td>\n",
       "      <td>17487</td>\n",
       "      <td>1417780000</td>\n",
       "      <td>12.03</td>\n",
       "      <td>81076</td>\n",
       "    </tr>\n",
       "    <tr>\n",
       "      <th>1</th>\n",
       "      <td>B</td>\n",
       "      <td>145381</td>\n",
       "      <td>17290</td>\n",
       "      <td>1533010000</td>\n",
       "      <td>11.89</td>\n",
       "      <td>88665</td>\n",
       "    </tr>\n",
       "  </tbody>\n",
       "</table>\n",
       "</div>"
      ],
      "text/plain": [
       "  group  count_visits  count_purchase   sum_price  conversion  mean_check\n",
       "0     A        145307           17487  1417780000       12.03       81076\n",
       "1     B        145381           17290  1533010000       11.89       88665"
      ]
     },
     "execution_count": 28,
     "metadata": {},
     "output_type": "execute_result"
    }
   ],
   "source": [
    "data_by_group_upd['conversion'] = round(data_by_group_upd['count_purchase'] / \n",
    "    data_by_group_upd['count_visits'] * 100, 2)\n",
    "\n",
    "data_by_group_upd['mean_check'] = (round(data_by_group_upd['sum_price'] / \n",
    "    data_by_group_upd['count_purchase'])).astype(int)\n",
    "data_by_group_upd"
   ]
  },
  {
   "attachments": {},
   "cell_type": "markdown",
   "metadata": {},
   "source": [
    "Приведите промежуточные выводы по таблице. По какому(им) показателю(ям) вариант А эффективнее варианта B и наоборот?"
   ]
  },
  {
   "attachments": {},
   "cell_type": "markdown",
   "metadata": {},
   "source": [
    "Выборочная конверсия группы A выше, чем в альтернативной группе B, однако средний чек в группе B выше, для корректной оценки эффективности по конверсии и среднему чеку необходимо дополнить анализ кумулятивными метриками."
   ]
  },
  {
   "attachments": {},
   "cell_type": "markdown",
   "metadata": {},
   "source": [
    "## **Задание 7.7.**\n",
    "\n",
    "Теперь давайте сравним варианты по покупательской способности туров. Для этого постройте сводную таблицу, которая покажет зависимость количества продаж от группы и цены тура. \n",
    "\n",
    "Визуализируйте полученную сводную таблицу с помощью тепловой карты с аннотацией. \n",
    "Чему равно количество проданных туров за 60000 рублей в группах?"
   ]
  },
  {
   "cell_type": "code",
   "execution_count": 29,
   "metadata": {},
   "outputs": [
    {
     "data": {
      "text/html": [
       "<div>\n",
       "<style scoped>\n",
       "    .dataframe tbody tr th:only-of-type {\n",
       "        vertical-align: middle;\n",
       "    }\n",
       "\n",
       "    .dataframe tbody tr th {\n",
       "        vertical-align: top;\n",
       "    }\n",
       "\n",
       "    .dataframe thead th {\n",
       "        text-align: right;\n",
       "    }\n",
       "</style>\n",
       "<table border=\"1\" class=\"dataframe\">\n",
       "  <thead>\n",
       "    <tr style=\"text-align: right;\">\n",
       "      <th>group</th>\n",
       "      <th>A</th>\n",
       "      <th>B</th>\n",
       "    </tr>\n",
       "    <tr>\n",
       "      <th>price</th>\n",
       "      <th></th>\n",
       "      <th></th>\n",
       "    </tr>\n",
       "  </thead>\n",
       "  <tbody>\n",
       "    <tr>\n",
       "      <th>0</th>\n",
       "      <td>0</td>\n",
       "      <td>0</td>\n",
       "    </tr>\n",
       "    <tr>\n",
       "      <th>10000</th>\n",
       "      <td>5182</td>\n",
       "      <td>5201</td>\n",
       "    </tr>\n",
       "    <tr>\n",
       "      <th>60000</th>\n",
       "      <td>5271</td>\n",
       "      <td>1730</td>\n",
       "    </tr>\n",
       "    <tr>\n",
       "      <th>100000</th>\n",
       "      <td>1832</td>\n",
       "      <td>5227</td>\n",
       "    </tr>\n",
       "    <tr>\n",
       "      <th>150000</th>\n",
       "      <td>3478</td>\n",
       "      <td>3438</td>\n",
       "    </tr>\n",
       "    <tr>\n",
       "      <th>200000</th>\n",
       "      <td>1724</td>\n",
       "      <td>1694</td>\n",
       "    </tr>\n",
       "  </tbody>\n",
       "</table>\n",
       "</div>"
      ],
      "text/plain": [
       "group      A     B\n",
       "price             \n",
       "0          0     0\n",
       "10000   5182  5201\n",
       "60000   5271  1730\n",
       "100000  1832  5227\n",
       "150000  3478  3438\n",
       "200000  1724  1694"
      ]
     },
     "metadata": {},
     "output_type": "display_data"
    },
    {
     "data": {
      "text/plain": [
       "<AxesSubplot: xlabel='group', ylabel='price'>"
      ]
     },
     "execution_count": 29,
     "metadata": {},
     "output_type": "execute_result"
    },
    {
     "data": {
      "image/png": "[encoded data removed]",
      "text/plain": [
       "<Figure size 640x480 with 2 Axes>"
      ]
     },
     "metadata": {},
     "output_type": "display_data"
    }
   ],
   "source": [
    "# Создадим сводную табоицу, где в качестве строк укажем цены путевок, \n",
    "# в качестве столбцов - группы пользователей,\n",
    "# вычисляемые значения - количество покупок\n",
    "pivot_price = updated_data.pivot_table(\n",
    "    values = 'purchase', \n",
    "    index = 'price', \n",
    "    columns = 'group', \n",
    "    aggfunc = 'sum')\n",
    "display(pivot_price)\n",
    "# Визуализируем сводную таблицу в виде тепловой карты\n",
    "sns.heatmap(pivot_price, \n",
    "    annot = True, \n",
    "    fmt='1g', \n",
    "    square = True, \n",
    "    linewidths=0.5, \n",
    "    linecolor='white'\n",
    "            )\n"
   ]
  },
  {
   "attachments": {},
   "cell_type": "markdown",
   "metadata": {},
   "source": [
    "Количество проданных туров за 60 000 руб. в группе А - 5 271 шт.            \n",
    "Количество проданных туров за 60 000 руб. в группе B - 1 730 шт."
   ]
  },
  {
   "attachments": {},
   "cell_type": "markdown",
   "metadata": {},
   "source": [
    "Сделайте выводы по построенной таблице. По каким турам покупательская способность участников группы А выше, чем участников группы B и наоборот?"
   ]
  },
  {
   "attachments": {},
   "cell_type": "markdown",
   "metadata": {},
   "source": [
    "Несмотря на меньшую конверсию средний чек в группе B выше за счёт большего числа проданных путёвок по цене 100 000 руб. Продажи в ценовом диапазоне 150 000 - 200 000 руб. и 10 000 руб. сопоставимы, а по цене 60 000 руб. путёвок в группе А продано больше, чем аналогичных в группе В."
   ]
  },
  {
   "attachments": {},
   "cell_type": "markdown",
   "metadata": {},
   "source": [
    "## **Задание 7.8.**\n",
    "\n",
    "Настало время поговорить о стабилизации кумулятивных метрик во времени. Но прежде, чем перейти к кумулятивным метрикам, нам необходимо построить таблицу с ежедневными данными результатов проведения A/B-тестирования.\n",
    "\n",
    "Сгруппируйте данные по дате и группе тестирования. В каждой группе вычислите количество посещений страницы, количество покупок и сумму покупок. \n",
    "\n",
    "Добавьте в таблицу информацию о ежедневной конверсии (ежедневное количество покупок / ежедневное количество посещений) в группе и ежедневном среднем чеке (ежедневная сумма покупок / ежедневное количество покупок)\n",
    "* Чему равна конверсия 3 января 2021 года? Ответ приведите в процентах и округлите до сотых.\n",
    "\n",
    "* Чему равен средний чек 3 января 2021 года? Ответ приведите в рублях и округлите до целого."
   ]
  },
  {
   "cell_type": "code",
   "execution_count": 30,
   "metadata": {},
   "outputs": [
    {
     "data": {
      "text/html": [
       "<div>\n",
       "<style scoped>\n",
       "    .dataframe tbody tr th:only-of-type {\n",
       "        vertical-align: middle;\n",
       "    }\n",
       "\n",
       "    .dataframe tbody tr th {\n",
       "        vertical-align: top;\n",
       "    }\n",
       "\n",
       "    .dataframe thead th {\n",
       "        text-align: right;\n",
       "    }\n",
       "</style>\n",
       "<table border=\"1\" class=\"dataframe\">\n",
       "  <thead>\n",
       "    <tr style=\"text-align: right;\">\n",
       "      <th></th>\n",
       "      <th>group</th>\n",
       "      <th>conversion_daily</th>\n",
       "      <th>avg_check_daily</th>\n",
       "    </tr>\n",
       "  </thead>\n",
       "  <tbody>\n",
       "    <tr>\n",
       "      <th>2</th>\n",
       "      <td>A</td>\n",
       "      <td>11.34</td>\n",
       "      <td>82888</td>\n",
       "    </tr>\n",
       "    <tr>\n",
       "      <th>3</th>\n",
       "      <td>B</td>\n",
       "      <td>11.39</td>\n",
       "      <td>87480</td>\n",
       "    </tr>\n",
       "  </tbody>\n",
       "</table>\n",
       "</div>"
      ],
      "text/plain": [
       "  group  conversion_daily  avg_check_daily\n",
       "2     A             11.34            82888\n",
       "3     B             11.39            87480"
      ]
     },
     "execution_count": 30,
     "metadata": {},
     "output_type": "execute_result"
    }
   ],
   "source": [
    "# Сгруппируем данные по датам и группам.\n",
    "# Вычислим суммарное число пользователей, количество и сумму покупок.\n",
    "# Переименуем признаки суммарного числа пользователей, количества и сумму покупок.\n",
    "data_grouped = updated_data.groupby(['date', 'group']).agg(\n",
    "    {'user_id':'count', 'purchase':'sum', 'price':'sum'}).reset_index().rename(\n",
    "    columns = {'user_id':'count_users', 'purchase':'sum_purchase', 'price':'sum_price'}   \n",
    ")# Добавим информацию о конверсии по группам\n",
    "data_grouped['conversion_daily'] = round(data_grouped['sum_purchase'] / \n",
    "data_grouped['count_users'] * 100, 2)\n",
    "# Добавим информацию о ежедневном среднем чеке по группам\n",
    "data_grouped['avg_check_daily'] = round(data_grouped['sum_price'] / \n",
    "data_grouped['sum_purchase']).astype(int)\n",
    "# Выведем информацию о конверсии и среднем чеке по группам на 03.01.2021\n",
    "data_grouped[data_grouped['date'] == '2021-01-03'][\n",
    "    ['group', 'conversion_daily', \n",
    "    'avg_check_daily']]"
   ]
  },
  {
   "attachments": {},
   "cell_type": "markdown",
   "metadata": {},
   "source": [
    "Показатели конверсии в обеих группах на 03.01.2021 сопоставимы, \n",
    "однако средний чек в группе B выше"
   ]
  },
  {
   "attachments": {},
   "cell_type": "markdown",
   "metadata": {},
   "source": [
    "## **Задание 7.9.** \n",
    "\n",
    "Добавьте в таблицу с ежедневными показателями кумулятивные признаки:\n",
    "* кумулятивное количество посещений страницы\n",
    "* кумулятивное количество покупок\n",
    "* кумулятивную сумму покупок\n",
    "\n",
    "Не забудьте при расчете кумулятивной суммы сгруппировать данные по группам. \n",
    "\n",
    "Вычислите кумулятивную конверсию и кумулятивный средний чек на основе полученных кумулятивных показателей. \n",
    "\n",
    "* Какая **кумулятивная** конверсия была в группе B на 20 января? Ответ приведите в процентах, округлив до сотых.\n",
    "* Какой **кумулятивный** средний чек был в группе А на 12 января 2021 года? Ответ приведите в рублях, округлив до целых."
   ]
  },
  {
   "cell_type": "code",
   "execution_count": 31,
   "metadata": {},
   "outputs": [
    {
     "name": "stdout",
     "output_type": "stream",
     "text": [
      "Кумулятивная конверсия в группе B на 20.01.2021: 11.9\n",
      "Кумулятивная средний чек в группе А на 12.01.2021: 81492\n"
     ]
    }
   ],
   "source": [
    "# Сгруппируем данные по группам и добавим в таблицу кумулятивные метрики по \n",
    "# количеству посещений страницы, количеству и сумме покупок по дням\n",
    "data_grouped['cum_users'] = data_grouped.groupby('group')['count_users'].cumsum()\n",
    "data_grouped['cum_purchase'] = data_grouped.groupby('group')['sum_purchase'].cumsum()\n",
    "data_grouped['cum_price'] = data_grouped.groupby('group')['sum_price'].cumsum()\n",
    "# На основе полученных показателей вычислим кумулятивную конверсию: \n",
    "data_grouped['cum_conversion'] = round(data_grouped['cum_purchase'] / \n",
    "data_grouped['cum_users'] * 100, 2)\n",
    "# и кумулятивный средник чек по группам:\n",
    "data_grouped['cum_avg_check'] = round(data_grouped['cum_price'] / \n",
    "data_grouped['cum_purchase']).astype(int)\n",
    "\n",
    "print('Кумулятивная конверсия в группе B на 20.01.2021: {}'.format(\n",
    "    data_grouped[(data_grouped['date'] == '2021-01-20') & (data_grouped['group'] == 'B')]\n",
    "    ['cum_conversion'].iloc[0]\n",
    "))\n",
    "print('Кумулятивная средний чек в группе А на 12.01.2021: {}'.format(\n",
    "    data_grouped[(data_grouped['date'] == '2021-01-12') & (data_grouped['group'] == 'A')]\n",
    "    ['cum_avg_check'].iloc[0]\n",
    "))"
   ]
  },
  {
   "attachments": {},
   "cell_type": "markdown",
   "metadata": {},
   "source": [
    "Постройте кумулятивные графики конверсии и среднего чека в каждой группе по дням. Сделайте выводы. Можно ли назвать A/B-тест завершенным - стабилизировались ли значения метрик во времени? Как соотносятся кумулятивные показатели в каждой группе?"
   ]
  },
  {
   "cell_type": "code",
   "execution_count": 32,
   "metadata": {},
   "outputs": [
    {
     "data": {
      "image/png": "[encoded data removed]",
      "text/plain": [
       "<Figure size 1200x400 with 2 Axes>"
      ]
     },
     "metadata": {},
     "output_type": "display_data"
    }
   ],
   "source": [
    "fig, axes = plt.subplots(1,2, figsize=(12,4))\n",
    "# кумулятивные графики конверсии\n",
    "sns.lineplot(\n",
    "    data=data_grouped,\n",
    "    x='date', \n",
    "    y='cum_conversion',\n",
    "    hue='group',   \n",
    "    ax=axes[0])\n",
    "axes[0].set_title('Кумулятивные графики конверсии по дням') # заголовок графика\n",
    "axes[0].grid(True) #установим сетку\n",
    "axes[0].xaxis.set_tick_params(rotation=45) #повернем подписи оси x на 45 градусов\n",
    "# кумулятивные графики среднего чека\n",
    "sns.lineplot(\n",
    "    data=data_grouped,\n",
    "    x='date', \n",
    "    y='cum_avg_check',\n",
    "    hue='group',\n",
    "    ax=axes[1])\n",
    "axes[1].set_title('Кумулятивные графики среднего чека по дням')\n",
    "axes[1].grid(True)\n",
    "axes[1].xaxis.set_tick_params(rotation=45)"
   ]
  },
  {
   "attachments": {},
   "cell_type": "markdown",
   "metadata": {},
   "source": [
    "С 6 января графики кумулятивных конверсии и среднего чека можно считать стабилизированными.\n",
    "Конверсия в группе A выше, чем в группе B на протяжении всего периода исследования за исключением пересечения графиков от 10 января.     \n",
    "Средний чек в группе B стабильно выше среднего чека группы A на протяжении всего периода исследования."
   ]
  },
  {
   "attachments": {},
   "cell_type": "markdown",
   "metadata": {},
   "source": [
    "## **Задание 7.10.**\n",
    "\n",
    "Настало время переходить к проверке статистической значимости разницы между метриками в группах. Начнем с конверсии.\n",
    "\n",
    "Какой тест вы примените для проверки гипотезы о равенстве конверсий в группах?\n",
    "\n",
    "Проведите тестирование при следующих нулевой и альтернативной гипотезе:\n",
    "* $H_0$: Конверсии в группах А и B равны; \n",
    "* $H_1$: Конверсия в группе А больше, чем конверсия в группе B;\n",
    "\n",
    "Вычислите p-value вашего теста для конверсий в группах А и B. Сравните полученное значение p-value с уровнем значимости $\\alpha$=0.05. "
   ]
  },
  {
   "cell_type": "code",
   "execution_count": 33,
   "metadata": {},
   "outputs": [
    {
     "data": {
      "text/html": [
       "<div>\n",
       "<style scoped>\n",
       "    .dataframe tbody tr th:only-of-type {\n",
       "        vertical-align: middle;\n",
       "    }\n",
       "\n",
       "    .dataframe tbody tr th {\n",
       "        vertical-align: top;\n",
       "    }\n",
       "\n",
       "    .dataframe thead th {\n",
       "        text-align: right;\n",
       "    }\n",
       "</style>\n",
       "<table border=\"1\" class=\"dataframe\">\n",
       "  <thead>\n",
       "    <tr style=\"text-align: right;\">\n",
       "      <th></th>\n",
       "      <th>group</th>\n",
       "      <th>count</th>\n",
       "      <th>sum</th>\n",
       "    </tr>\n",
       "  </thead>\n",
       "  <tbody>\n",
       "    <tr>\n",
       "      <th>0</th>\n",
       "      <td>A</td>\n",
       "      <td>145307</td>\n",
       "      <td>17487</td>\n",
       "    </tr>\n",
       "    <tr>\n",
       "      <th>1</th>\n",
       "      <td>B</td>\n",
       "      <td>145381</td>\n",
       "      <td>17290</td>\n",
       "    </tr>\n",
       "  </tbody>\n",
       "</table>\n",
       "</div>"
      ],
      "text/plain": [
       "  group   count    sum\n",
       "0     A  145307  17487\n",
       "1     B  145381  17290"
      ]
     },
     "metadata": {},
     "output_type": "display_data"
    },
    {
     "name": "stdout",
     "output_type": "stream",
     "text": [
      "p-value: 0.12\n",
      "Принимаем нулевую гипотезу H0: Конверсии в группах А и B равны\n"
     ]
    }
   ],
   "source": [
    "#Поскольку конверсия является пропорцией, то для проверки \n",
    "# статистической значимости подойдёт z-тест.\n",
    "# Рассчитаем количество наблюдений и успешных операций для каждой из групп:\n",
    "converted_piv =updated_data.groupby('group')['purchase'].agg(\n",
    "    ['count', 'sum']).reset_index()\n",
    "    \n",
    "display(converted_piv)\n",
    "alpha = 0.05 # уровень значимости\n",
    "H0 = 'Конверсии в группах А и B равны' # нулевая гипотеза\n",
    "H1 = 'Конверсия в группе А больше, чем конверсия в группе B' # альтернативная гипотеза\n",
    "_, p_value = proportions_ztest(\n",
    "    count = converted_piv['sum'], # число успехова\n",
    "    nobs = converted_piv['count'], # общее число наблюдений\n",
    "    alternative = 'larger'\n",
    ")\n",
    "# Выведем значение p-value\n",
    "print('p-value: {}'.format(round(p_value, 2)))\n",
    "# Сравниваем полученное p-value с уровнем значимости\n",
    "if round(p_value, 2) < alpha:\n",
    "    print('Отвергаем нулевую гипотезу H0: {}'.format(H0))\n",
    "    print('Принимаем альтернативную гипотезу H1: {}'.format(H1)) \n",
    "else:\n",
    "    print('Принимаем нулевую гипотезу H0: {}'.format(H0))"
   ]
  },
  {
   "attachments": {},
   "cell_type": "markdown",
   "metadata": {},
   "source": [
    "По результатам проведенного статистического теста значение p-value оказалось выше принятого уровня значимости $\\alpha$ = 0.05, следовательно, у нас нет оснований принимать альтернативную гипотезу, разницы между конверсией в группах A и B нет."
   ]
  },
  {
   "attachments": {},
   "cell_type": "markdown",
   "metadata": {},
   "source": [
    "## **Задание 7.11.**\n",
    "Убедитесь в своих рассуждениях, построив 95%-ый доверительный интервал для конверсий и разницы между ними. Используйте $z_{крит}$ в своих расчетах\n",
    "\n",
    "Укажите нижнюю и верхнюю границы доверительных интервалов. Границы приведите в процентах и округлите до 2 знака после запятой. Например: нижняя граница 89.24%, верхняя граница 91.25%."
   ]
  },
  {
   "cell_type": "code",
   "execution_count": 34,
   "metadata": {},
   "outputs": [
    {
     "name": "stdout",
     "output_type": "stream",
     "text": [
      "Доверительный интервал конверсии для группы A: (11.87, 12.2)\n",
      "Доверительный интервал конверсии для группы B: (11.73, 12.06)\n",
      "Доверительный интервал разности конверсий: (-0.38, 0.09)\n"
     ]
    }
   ],
   "source": [
    "# Создадим функцию для расчёта доверительного интервала для пропорции\n",
    "def proportions_conf_interval(n, x_p, gamma=0.95):\n",
    "    alpha = 1 - gamma # уровень значимости\n",
    "    z_crit = -norm.ppf(alpha/2) #z критическое\n",
    "    eps = z_crit * (x_p * (1 - x_p) / n)**0.5 # погрешность\n",
    "    lower_bound = x_p - eps # левая (нижняя) граница интервала\n",
    "    upper_bound = x_p + eps # правая (верхняя) граница интервала\n",
    "    # выведем границы интервала\n",
    "    return (round(lower_bound * 100, 2), round(upper_bound * 100, 2))\n",
    "# Разделим общую таблицу на выборки по группам\n",
    "a_data = updated_data[updated_data['group'] == 'A']\n",
    "b_data = updated_data[updated_data['group'] == 'B']\n",
    "\n",
    "conf_int_a = proportions_conf_interval(\n",
    "    a_data['user_id'].count(), # размер выборки группы A\n",
    "    a_data['purchase'].mean()) # выборочная пропорция группы A\n",
    "conf_int_b = proportions_conf_interval(\n",
    "    b_data['user_id'].count(), # размер выборки группы B\n",
    "    b_data['purchase'].mean()) # выборочная пропорция группы B\n",
    "print('Доверительный интервал конверсии для группы A: {}'.format(conf_int_a))\n",
    "print('Доверительный интервал конверсии для группы B: {}'.format(conf_int_b))\n",
    "\n",
    "# Создадим функцию для доверительного интервала разницы пропорций\n",
    "def diff_proportions_conf_interval(n, x_p, gamma=0.95):\n",
    "    alpha = 1 - gamma # уровень значимости\n",
    "    diff = x_p[1] - x_p[0] \n",
    "    z_crit = -norm.ppf(alpha/2) #z критическое\n",
    "    # погрешность\n",
    "    eps = z_crit * (x_p[0] * (1 - x_p[0]) / n[0] + x_p[1] * (1 - x_p[1]) / n[1]) ** 0.5\n",
    "    lower_bound = diff - eps # левая (нижняя) граница интервала\n",
    "    upper_bound = diff + eps # правая (верхняя) граница интервала\n",
    "    return(round(lower_bound * 100, 2), round(upper_bound * 100, 2))\n",
    "n = [a_data['user_id'].count(), b_data['user_id'].count()] # размер выборок\n",
    "x_p = [a_data['purchase'].mean(), b_data['purchase'].mean()] # выборочные средние\n",
    "print('Доверительный интервал разности конверсий: {}'.format(\n",
    "    diff_proportions_conf_interval(n, x_p)))"
   ]
  },
  {
   "attachments": {},
   "cell_type": "markdown",
   "metadata": {},
   "source": [
    "Левый и правый интервалы разности конверсий имеют разные знаки, что подтверждает отсутствие разницы в конверсиях группы A и B."
   ]
  },
  {
   "attachments": {},
   "cell_type": "markdown",
   "metadata": {},
   "source": [
    "## **Задание 7.12.**\n",
    "\n",
    "Ранее мы построили таблицу с ежедневными показателями. Теперь она нам снова понадобится, так как нас интересует ежедневный средний чек.\n",
    "\n",
    "Проверьте гипотезу о нормальности распределения ежедневного среднего чека в каждой из групп тестирования. \n",
    "\n",
    "* Какой тест вы примените  для проверки гипотезы о нормальности распределения ежедневного среднего чека?\n",
    "* Как будут звучать нулевая и альтернативная гипотезы?\n",
    "* Каковы результаты статистического теста с уровнем значимости $\\alpha$ =0.05?"
   ]
  },
  {
   "cell_type": "code",
   "execution_count": 35,
   "metadata": {},
   "outputs": [
    {
     "name": "stdout",
     "output_type": "stream",
     "text": [
      "p-value для группы A: 0.25\n",
      "p-value для группы B: 0.09\n",
      "Принимаем нулевую гипотезу H0: Выборки в обеих группах имеют номральное распределение\n"
     ]
    }
   ],
   "source": [
    "# Для определения характера распредления выборок воспользуемся тестами \n",
    "# на нормальность Шапиро\n",
    "alpha = 0.05 # уровень значимости\n",
    "# Зададим нулевую (H0) и альтернативную (H1) гипотезы\n",
    "H0 = 'Выборки в обеих группах имеют номральное распределение'\n",
    "H1 = 'Распределение в обеих группах, либо в одной из групп отлично от нормального'\n",
    "# Вычислим p-value по тесту Шапиро для обеих выборок\n",
    "_, shapiro_a = shapiro(data_grouped[data_grouped['group']=='A']['avg_check_daily']) \n",
    "_, shapiro_b = shapiro(data_grouped[data_grouped['group']=='B']['avg_check_daily'])\n",
    "print('p-value для группы A: {}'.format(round(shapiro_a, 2)))\n",
    "print('p-value для группы B: {}'.format(round(shapiro_b, 2)))\n",
    "if round(shapiro_a,2) < alpha or round(shapiro_b,2) < alpha:\n",
    "    print('Опровергаем нулевую гипотезу H0: {}'.format(H0))\n",
    "    print('Принимаем альтернативную гипотезу H1: {}'.format(H1)) \n",
    "else:\n",
    "    print('Принимаем нулевую гипотезу H0: {}'.format(H0))\n"
   ]
  },
  {
   "attachments": {},
   "cell_type": "markdown",
   "metadata": {},
   "source": [
    "p-value обеих выборок превышает уровень статистической значимости, следовательно, мы не можем отвергнуть нулевую гипотезу и выборки имеют нормальное распределение. "
   ]
  },
  {
   "attachments": {},
   "cell_type": "markdown",
   "metadata": {},
   "source": [
    "## **Задание 7.13.**\n",
    "Настало время сравнить варианты дизайна страницы по метрике среднего чека. \n",
    "\n",
    "Какой тест вы примените для проверки гипотезы о равенстве средних чеков по дням в группах?\n",
    "\n",
    "Проведите тестирование при следующих нулевой и альтернативной гипотезе:\n",
    "* $H_0$: Ежедневные средние чеки в группах А и B равны; \n",
    "* $H_1$: Ежедневный средний чек в группе А меньше чем в группе B;\n",
    "\n",
    "Вычислите p-value вашего теста для ежедневного среднего чека в группах А и B. Сравните полученное значение p-value с уровнем значимости $\\alpha$ =0.05. "
   ]
  },
  {
   "cell_type": "code",
   "execution_count": 37,
   "metadata": {},
   "outputs": [
    {
     "name": "stdout",
     "output_type": "stream",
     "text": [
      "p-value: 0.0\n",
      "Отвергаем нулевую гипотезу H0: Ежедневные средние чеки в группах А и B равны\n",
      "Принимаем альтернативную гипотезу H1: Ежедневный средний чек в группе А меньше чем в группе B\n"
     ]
    }
   ],
   "source": [
    "# Поскольку выборки имеют нормальное распределение, 2 категориальные \n",
    "# переменные и 1 зависимую количественную переменную, в качестве сравнительного теста\n",
    "# выбираем параметрический t-тест\n",
    "alpha = 0.05\n",
    "H0 = 'Ежедневные средние чеки в группах А и B равны'\n",
    "H1 = 'Ежедневный средний чек в группе А меньше чем в группе B'\n",
    "\n",
    "a_data = data_grouped[data_grouped['group'] == 'A']\n",
    "b_data = data_grouped[data_grouped['group'] == 'B']\n",
    "result = ttest_ind(\n",
    "    a_data['avg_check_daily'],\n",
    "    b_data['avg_check_daily'],\n",
    "    alternative='less'\n",
    ")\n",
    "print('p-value: {}'.format(round(result.pvalue, 2)))\n",
    "\n",
    "if round(result.pvalue, 2) < alpha:\n",
    "    print('Отвергаем нулевую гипотезу H0: {}'.format(H0))\n",
    "    print('Принимаем альтернативную гипотезу H1: {}'.format(H1)) \n",
    "else:\n",
    "    print('Принимаем нулевую гипотезу H0: {}'.format(H0))"
   ]
  },
  {
   "attachments": {},
   "cell_type": "markdown",
   "metadata": {},
   "source": [
    "Средний чек в группе B выше, чем в группе A, эта гипотеза подтвердилась сравнительным тестом."
   ]
  },
  {
   "attachments": {},
   "cell_type": "markdown",
   "metadata": {},
   "source": [
    "## **Задание 7.14.**\n",
    "\n",
    "Постройте 95%-ый доверительный интервал для среднего чека в каждой группе. Так как выборка средних чеков небольшая, используйте  $t_{крит}$ в своих расчетах.\n",
    "\n",
    "Укажите нижнюю границу доверительного интервала для истинного среднего чека каждой из групп. Ответ приведите в процентах и округлите до целого."
   ]
  },
  {
   "cell_type": "code",
   "execution_count": 42,
   "metadata": {},
   "outputs": [
    {
     "name": "stdout",
     "output_type": "stream",
     "text": [
      "Доверительный интервал среднего чека для группы A: (79630, 82308)\n",
      "Доверительный интервал среднего чека для группы B: (87626, 89526)\n"
     ]
    }
   ],
   "source": [
    "def coinf_int_t(n, x_mean, x_std, gamma=0.95):\n",
    "    alpha = 1 - gamma # уровень значимости\n",
    "    k = n - 1 # число степеней свободы\n",
    "    t_crit = -t.ppf(alpha/2, k) # z критическое\n",
    "    eps = t_crit * x_std/(n ** 0.5) # погрешность\n",
    "    lower_bound = x_mean - eps # левая (нижняя) граница\n",
    "    upper_bound = x_mean + eps # правая (верхняя) граница)\n",
    "    coinfedence_int = (round(lower_bound), round(upper_bound))# создаём кортеж из\n",
    "#округлённых границ интервала\n",
    "    return(coinfedence_int)\n",
    "\n",
    "a_data = data_grouped[data_grouped['group'] == 'A']\n",
    "b_data = data_grouped[data_grouped['group'] == 'B']\n",
    "coinf_int_a = coinf_int_t(\n",
    "    a_data['count_users'].count(),\n",
    "    a_data['avg_check_daily'].mean(),\n",
    "    a_data['avg_check_daily'].std()\n",
    ")\n",
    "coinf_int_b = coinf_int_t(\n",
    "    b_data['count_users'].count(),\n",
    "    b_data['avg_check_daily'].mean(),\n",
    "    b_data['avg_check_daily'].std()\n",
    ")\n",
    "print('Доверительный интервал среднего чека для группы A: {}'.format(coinf_int_a))\n",
    "print('Доверительный интервал среднего чека для группы B: {}'.format(coinf_int_b))"
   ]
  },
  {
   "attachments": {},
   "cell_type": "markdown",
   "metadata": {},
   "source": [
    "## **Общий вывод по результатам A/B-теста**\n",
    "Доверительные интервалы средних чеков для групп не пересекаются, что с заданной вероятностью подтверждает наши выводы о соотношении средних чеков для групп.\n",
    "Поскольку конверсия в обеих группах одинаковая, но при этом средний чек в тестовой группе B выше, то можно сделать вывод, что версия дизайна страницы для группы B эффективнее."
   ]
  }
 ],
 "metadata": {
  "kernelspec": {
   "display_name": "Python 3",
   "language": "python",
   "name": "python3"
  },
  "language_info": {
   "codemirror_mode": {
    "name": "ipython",
    "version": 3
   },
   "file_extension": ".py",
   "mimetype": "text/x-python",
   "name": "python",
   "nbconvert_exporter": "python",
   "pygments_lexer": "ipython3",
   "version": "3.9.10"
  },
  "orig_nbformat": 4
 },
 "nbformat": 4,
 "nbformat_minor": 2
}
